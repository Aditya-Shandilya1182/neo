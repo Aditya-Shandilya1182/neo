{
  "metadata": {
    "kernelspec": {
      "language": "python",
      "display_name": "Python 3",
      "name": "python3"
    },
    "language_info": {
      "name": "python",
      "version": "3.10.12",
      "mimetype": "text/x-python",
      "codemirror_mode": {
        "name": "ipython",
        "version": 3
      },
      "pygments_lexer": "ipython3",
      "nbconvert_exporter": "python",
      "file_extension": ".py"
    },
    "kaggle": {
      "accelerator": "none",
      "dataSources": [
        {
          "sourceId": 10465191,
          "sourceType": "datasetVersion",
          "datasetId": 6479255
        }
      ],
      "dockerImageVersionId": 30823,
      "isInternetEnabled": true,
      "language": "python",
      "sourceType": "notebook",
      "isGpuEnabled": false
    },
    "colab": {
      "name": "train.ipynb",
      "provenance": [],
      "include_colab_link": true
    }
  },
  "nbformat_minor": 0,
  "nbformat": 4,
  "cells": [
    {
      "cell_type": "markdown",
      "metadata": {
        "id": "view-in-github",
        "colab_type": "text"
      },
      "source": [
        "<a href=\"https://colab.research.google.com/github/Aditya-Shandilya1182/neo/blob/main/train.ipynb\" target=\"_parent\"><img src=\"https://colab.research.google.com/assets/colab-badge.svg\" alt=\"Open In Colab\"/></a>"
      ]
    },
    {
      "cell_type": "code",
      "source": [
        "import torch\n",
        "import tiktoken\n",
        "from tiktoken import get_encoding\n",
        "import torch.nn as nn\n",
        "from torch.nn import functional as F\n",
        "from torch.optim import AdamW\n",
        "from torch.utils.data import DataLoader, Dataset\n",
        "from dataclasses import dataclass\n",
        "from datasets import load_dataset\n",
        "from tqdm import tqdm\n",
        "import pickle"
      ],
      "metadata": {
        "_uuid": "8f2839f25d086af736a60e9eeb907d3b93b6e0e5",
        "_cell_guid": "b1076dfc-b9ad-4769-8c92-a6c4dae69d19",
        "trusted": true,
        "execution": {
          "iopub.status.busy": "2025-01-12T14:08:46.2187Z",
          "iopub.execute_input": "2025-01-12T14:08:46.218977Z",
          "iopub.status.idle": "2025-01-12T14:08:50.390422Z",
          "shell.execute_reply.started": "2025-01-12T14:08:46.218955Z",
          "shell.execute_reply": "2025-01-12T14:08:50.389736Z"
        },
        "id": "oWltBhMiZf7M"
      },
      "outputs": [],
      "execution_count": null
    },
    {
      "cell_type": "code",
      "source": [
        "class MLP(nn.Module):\n",
        "  def __init__(self, config):\n",
        "    super().__init__()\n",
        "    self.w1 = nn.Linear(config.n_embd, 4 * config.n_embd, bias=False, dtype=config.d_type)\n",
        "    self.w2 = nn.Linear(4 * config.n_embd, config.n_embd, bias=False, dtype=config.d_type)\n",
        "    self.dropout = nn.Dropout(config.dropout)\n",
        "\n",
        "  def forward(self, x):\n",
        "    x_w1 = self.w1(x)\n",
        "    x = F.silu(x_w1)\n",
        "    x = self.w2(x)\n",
        "    x = self.dropout(x)\n",
        "    return x"
      ],
      "metadata": {
        "trusted": true,
        "execution": {
          "iopub.status.busy": "2025-01-12T14:08:50.391387Z",
          "iopub.execute_input": "2025-01-12T14:08:50.391732Z",
          "iopub.status.idle": "2025-01-12T14:08:50.396351Z",
          "shell.execute_reply.started": "2025-01-12T14:08:50.391712Z",
          "shell.execute_reply": "2025-01-12T14:08:50.395466Z"
        },
        "id": "-jSUx8EVZf7N"
      },
      "outputs": [],
      "execution_count": null
    },
    {
      "cell_type": "code",
      "source": [
        "class Attention(nn.Module):\n",
        "    def __init__(self, config):\n",
        "        super().__init__()\n",
        "        assert config.n_embd % config.n_head == 0, \"Embedding size must be divisible by the number of heads\"\n",
        "        self.c_attn = nn.Linear(config.n_embd, 3 * config.n_embd, bias=False, dtype=config.d_type)\n",
        "        self.c_proj = nn.Linear(config.n_embd, config.n_embd, bias=False, dtype=config.d_type)\n",
        "        self.n_head = config.n_head\n",
        "        self.n_embd = config.n_embd\n",
        "        self.register_buffer(\n",
        "            \"tril\",\n",
        "            torch.tril(torch.ones(config.block_size, config.block_size, dtype=torch.bool))\n",
        "        )\n",
        "        self.att_dropout = nn.Dropout(config.dropout)\n",
        "        self.dropout = config.dropout\n",
        "\n",
        "    def forward(self, x):\n",
        "        B,T,C = x.size()\n",
        "        q, k, v  = self.c_attn(x).split(self.n_embd, dim=2)\n",
        "        k = k.view(B, T, self.n_head, C // self.n_head).transpose(1, 2)\n",
        "        q = q.view(B, T, self.n_head, C // self.n_head).transpose(1, 2)\n",
        "        v = v.view(B, T, self.n_head, C // self.n_head).transpose(1, 2)\n",
        "        y = F.scaled_dot_product_attention(q, k, v, attn_mask=None, dropout_p=self.dropout, is_causal=True)\n",
        "        y = y.transpose(1, 2).contiguous().view(B, T, C)\n",
        "        y = self.c_proj(y)\n",
        "        y = self.att_dropout(y)\n",
        "        return y"
      ],
      "metadata": {
        "trusted": true,
        "execution": {
          "iopub.status.busy": "2025-01-12T14:08:50.397942Z",
          "iopub.execute_input": "2025-01-12T14:08:50.398182Z",
          "iopub.status.idle": "2025-01-12T14:08:50.416163Z",
          "shell.execute_reply.started": "2025-01-12T14:08:50.398162Z",
          "shell.execute_reply": "2025-01-12T14:08:50.415375Z"
        },
        "id": "z_ISwua5Zf7N"
      },
      "outputs": [],
      "execution_count": null
    },
    {
      "cell_type": "code",
      "source": [
        "class Block(nn.Module):\n",
        "  def __init__(self, config):\n",
        "    super().__init__()\n",
        "    self.attention = Attention(config)\n",
        "    self.feed_forward = MLP(config)\n",
        "    self.attention_norm = nn.RMSNorm(config.n_embd, dtype=config.d_type)\n",
        "    self.ffn_norm = nn.RMSNorm(config.n_embd, dtype=config.d_type)\n",
        "\n",
        "  def forward(self, x):\n",
        "    x = x + self.attention(self.attention_norm(x))\n",
        "    x = x + self.feed_forward(self.ffn_norm(x))\n",
        "    return x"
      ],
      "metadata": {
        "trusted": true,
        "execution": {
          "iopub.status.busy": "2025-01-12T14:08:50.417456Z",
          "iopub.execute_input": "2025-01-12T14:08:50.41773Z",
          "iopub.status.idle": "2025-01-12T14:08:50.435575Z",
          "shell.execute_reply.started": "2025-01-12T14:08:50.41771Z",
          "shell.execute_reply": "2025-01-12T14:08:50.43482Z"
        },
        "id": "mdDM8GRJZf7O"
      },
      "outputs": [],
      "execution_count": null
    },
    {
      "cell_type": "code",
      "source": [
        "class Neo(nn.Module):\n",
        "    def __init__(self, config):\n",
        "        super().__init__()\n",
        "        self.config = config\n",
        "        self.token_embedding = nn.Embedding(config.vocab_size, config.n_embd, dtype=config.d_type)\n",
        "        self.position_embedding = nn.Embedding(config.block_size, config.n_embd, dtype=config.d_type)\n",
        "        self.blocks = nn.Sequential(*[Block(config) for _ in range(config.n_layer)])\n",
        "        self.ln_f = nn.RMSNorm(config.n_embd, dtype=config.d_type)\n",
        "        self.lm_head = nn.Linear(config.n_embd, config.vocab_size, dtype=config.d_type)\n",
        "        self.apply(self._init_weights)\n",
        "\n",
        "    def _init_weights(self, module):\n",
        "        if isinstance(module, nn.Linear):\n",
        "            torch.nn.init.normal_(module.weight, mean=0.0, std=0.02)\n",
        "            if module.bias is not None:\n",
        "                torch.nn.init.zeros_(module.bias)\n",
        "        elif isinstance(module, nn.Embedding):\n",
        "            torch.nn.init.normal_(module.weight, mean=0.0, std=0.02)\n",
        "\n",
        "    def forward(self, index, targets=None):\n",
        "        B, T = index.shape\n",
        "\n",
        "        tok_emb = self.token_embedding(index)\n",
        "        pos_emb = self.position_embedding(torch.arange(T, device=self.config.device))\n",
        "        x = tok_emb + pos_emb\n",
        "        x = self.blocks(x)\n",
        "        x = self.ln_f(x)\n",
        "        logits = self.lm_head(x)\n",
        "\n",
        "        if targets is None:\n",
        "            loss = None\n",
        "        else:\n",
        "            B, T, C = logits.shape\n",
        "            logits = logits.view(B*T, C)\n",
        "            targets = targets.view(B*T)\n",
        "            loss = F.cross_entropy(logits, targets)\n",
        "\n",
        "        return logits, loss\n",
        "    def generate(self, index, max_new_tokens):\n",
        "        for _ in range(max_new_tokens):\n",
        "            b_s = self.config.block_size\n",
        "            index_cond = index[:, -b_s:]\n",
        "            logits, loss = self.forward(index_cond)\n",
        "            logits = logits[:, -1, :]\n",
        "            probs = F.softmax(logits, dim=-1)\n",
        "            index_next = torch.multinomial(probs, num_samples=1)\n",
        "            index = torch.cat((index, index_next), dim=1)\n",
        "        return index"
      ],
      "metadata": {
        "trusted": true,
        "execution": {
          "iopub.status.busy": "2025-01-12T14:08:50.43623Z",
          "iopub.execute_input": "2025-01-12T14:08:50.436467Z",
          "iopub.status.idle": "2025-01-12T14:08:50.44719Z",
          "shell.execute_reply.started": "2025-01-12T14:08:50.436449Z",
          "shell.execute_reply": "2025-01-12T14:08:50.44645Z"
        },
        "id": "ujJXXC26Zf7O"
      },
      "outputs": [],
      "execution_count": null
    },
    {
      "cell_type": "code",
      "source": [
        "class ModelConfig:\n",
        "    batch_size: int = 8\n",
        "    block_size: int = 512\n",
        "    max_iters: int = 10000\n",
        "    learning_rate: float = 1e-4\n",
        "    eval_iters: int = 500\n",
        "    n_embd: int = 512\n",
        "    n_head: int = 8\n",
        "    n_layer: int = 12\n",
        "    head_size: int = 512\n",
        "    d_type: torch.dtype = torch.float32\n",
        "    vocab_size: int = 50257\n",
        "    dropout: float = 0.1\n",
        "    device: str = 'cuda' if torch.cuda.is_available() else 'cpu'\n"
      ],
      "metadata": {
        "trusted": true,
        "execution": {
          "iopub.status.busy": "2025-01-12T14:08:50.448133Z",
          "iopub.execute_input": "2025-01-12T14:08:50.448434Z",
          "iopub.status.idle": "2025-01-12T14:08:50.507934Z",
          "shell.execute_reply.started": "2025-01-12T14:08:50.448406Z",
          "shell.execute_reply": "2025-01-12T14:08:50.507161Z"
        },
        "id": "6JO3W1lgZf7P"
      },
      "outputs": [],
      "execution_count": null
    },
    {
      "cell_type": "code",
      "source": [
        "config = ModelConfig()\n",
        "device = config.device\n",
        "model = Neo(config)\n",
        "model = model.to(device)\n",
        "optimizer = torch.optim.AdamW(model.parameters(), lr=config.learning_rate)"
      ],
      "metadata": {
        "trusted": true,
        "execution": {
          "iopub.status.busy": "2025-01-12T14:08:50.508654Z",
          "iopub.execute_input": "2025-01-12T14:08:50.50887Z",
          "iopub.status.idle": "2025-01-12T14:08:56.908906Z",
          "shell.execute_reply.started": "2025-01-12T14:08:50.508844Z",
          "shell.execute_reply": "2025-01-12T14:08:56.908269Z"
        },
        "id": "8LR6iW68Zf7P"
      },
      "outputs": [],
      "execution_count": null
    },
    {
      "cell_type": "code",
      "source": [
        "dataset = load_dataset(\"roneneldan/TinyStories\")"
      ],
      "metadata": {
        "trusted": true,
        "execution": {
          "iopub.status.busy": "2025-01-12T14:08:56.911238Z",
          "iopub.execute_input": "2025-01-12T14:08:56.911626Z",
          "iopub.status.idle": "2025-01-12T14:09:10.003016Z",
          "shell.execute_reply.started": "2025-01-12T14:08:56.911596Z",
          "shell.execute_reply": "2025-01-12T14:09:10.002333Z"
        },
        "id": "Hzw14MNoZf7Q"
      },
      "outputs": [],
      "execution_count": null
    },
    {
      "cell_type": "code",
      "source": [
        "tokenizer = tiktoken.get_encoding(\"gpt2\")\n",
        "encoded_train_chunks = []\n",
        "for sample in dataset['train']:\n",
        "    encoded_train_chunks.append(tokenizer.encode(sample['text']))\n",
        "train_encoded = torch.tensor([token for chunk in encoded_train_chunks for token in chunk], dtype=torch.long)\n"
      ],
      "metadata": {
        "trusted": true,
        "execution": {
          "iopub.status.busy": "2025-01-12T14:09:10.009266Z",
          "iopub.execute_input": "2025-01-12T14:09:10.009697Z",
          "execution_failed": "2025-01-12T14:13:48.853Z"
        },
        "id": "qEfMkfJOZf7R"
      },
      "outputs": [],
      "execution_count": null
    },
    {
      "cell_type": "code",
      "source": [
        "encoded_val_chunks = []\n",
        "for sample in dataset['validation']:\n",
        "    encoded_val_chunks.append(tokenizer.encode(sample['text']))\n",
        "val_encoded = torch.tensor([token for chunk in encoded_val_chunks for token in chunk], dtype=torch.long)\n"
      ],
      "metadata": {
        "trusted": true,
        "execution": {
          "execution_failed": "2025-01-12T14:13:48.854Z"
        },
        "id": "Kk1SncR3Zf7R"
      },
      "outputs": [],
      "execution_count": null
    },
    {
      "cell_type": "code",
      "source": [
        "print(len(train_encoded))\n",
        "print(len(val_encoded))"
      ],
      "metadata": {
        "trusted": true,
        "id": "NXWMWIgxZf7R"
      },
      "outputs": [],
      "execution_count": null
    },
    {
      "cell_type": "code",
      "source": [
        "train_encoded.to(device)\n",
        "val_encoded.to(device)"
      ],
      "metadata": {
        "trusted": true,
        "execution": {
          "execution_failed": "2025-01-12T14:13:48.855Z"
        },
        "id": "rwlyCqnfZf7R"
      },
      "outputs": [],
      "execution_count": null
    },
    {
      "cell_type": "code",
      "source": [
        "eval_iters = config.eval_iters\n",
        "block_size = config.block_size\n",
        "batch_size = config.batch_size\n",
        "max_grad_norm = 1.0"
      ],
      "metadata": {
        "trusted": true,
        "execution": {
          "execution_failed": "2025-01-12T14:13:48.855Z"
        },
        "id": "OQHTq77zZf7R"
      },
      "outputs": [],
      "execution_count": null
    },
    {
      "cell_type": "code",
      "source": [
        "@torch.no_grad()\n",
        "def estimate_loss():\n",
        "    out = {}\n",
        "    model.eval()\n",
        "    for split in ['train', 'val']:\n",
        "        data = train_encoded if split == 'train' else val_encoded\n",
        "\n",
        "        if data.size(0) <= block_size:\n",
        "            raise ValueError(f\"{split.capitalize()} dataset size is too small for the requested block size.\")\n",
        "\n",
        "        losses = torch.zeros(eval_iters)\n",
        "\n",
        "        for k in range(eval_iters):\n",
        "            ix = torch.randint(0, data.size(0) - block_size, (batch_size,))\n",
        "            x = torch.stack([data[i:i+block_size] for i in ix])\n",
        "            y = torch.stack([data[i+1:i+block_size+1] for i in ix])\n",
        "\n",
        "            x, y = x.to(device), y.to(device)\n",
        "            logits, loss = model(x, y)\n",
        "            losses[k] = loss.item()\n",
        "\n",
        "        out[split] = losses.mean().item()\n",
        "\n",
        "    model.train()\n",
        "    return out\n"
      ],
      "metadata": {
        "trusted": true,
        "execution": {
          "execution_failed": "2025-01-12T14:13:48.855Z"
        },
        "id": "RBsKvCeAZf7S"
      },
      "outputs": [],
      "execution_count": null
    },
    {
      "cell_type": "code",
      "source": [
        "max_iters = config.max_iters\n",
        "gradient_accumulation_steps = 8\n",
        "for iter in range(max_iters):\n",
        "    print(iter)\n",
        "    if iter % eval_iters == 0:\n",
        "        losses = estimate_loss()\n",
        "        print(f\"step: {iter}, train loss: {losses['train']:.3f}, val loss: {losses['val']:.3f}\")\n",
        "\n",
        "    ix = torch.randint(len(train_encoded) - block_size, (batch_size,))\n",
        "    x = torch.stack([train_encoded[i:i+block_size] for i in ix])\n",
        "    y = torch.stack([train_encoded[i+1:i+block_size+1] for i in ix])\n",
        "    x, y = x.to(device), y.to(device)\n",
        "\n",
        "    logits, loss = model.forward(x, y)\n",
        "\n",
        "    loss = loss / gradient_accumulation_steps\n",
        "    loss.backward()\n",
        "\n",
        "    if (iter + 1) % gradient_accumulation_steps == 0:\n",
        "        optimizer.step()\n",
        "        optimizer.zero_grad(set_to_none=True)\n",
        "\n",
        "    if (iter + 1) % gradient_accumulation_steps == 0:\n",
        "        print(f\"Loss at step {iter + 1}: {loss.item() * gradient_accumulation_steps:.3f}\")\n"
      ],
      "metadata": {
        "trusted": true,
        "execution": {
          "execution_failed": "2025-01-12T14:13:48.855Z"
        },
        "id": "URdo5WpjZf7S"
      },
      "outputs": [],
      "execution_count": null
    },
    {
      "cell_type": "code",
      "source": [
        "with open('model-03.pkl', 'wb') as f:\n",
        "    pickle.dump(model, f)\n",
        "print('model saved')"
      ],
      "metadata": {
        "trusted": true,
        "execution": {
          "execution_failed": "2025-01-12T14:13:48.855Z"
        },
        "id": "UdyCXZ0oZf7S"
      },
      "outputs": [],
      "execution_count": null
    },
    {
      "cell_type": "code",
      "source": [
        "prompt = 'Hello! Can you see me?'\n",
        "context = torch.tensor(tokenizer.encode(prompt), dtype=torch.long, device=device)\n",
        "generated_chars = tokenizer.decode(model.generate(context.unsqueeze(0), max_new_tokens=100)[0].tolist())\n",
        "print(generated_chars)"
      ],
      "metadata": {
        "trusted": true,
        "execution": {
          "execution_failed": "2025-01-12T14:13:48.856Z"
        },
        "id": "2fWk8MrWZf7S"
      },
      "outputs": [],
      "execution_count": null
    },
    {
      "cell_type": "code",
      "source": [],
      "metadata": {
        "trusted": true,
        "id": "OHp1TsmmZf7T"
      },
      "outputs": [],
      "execution_count": null
    }
  ]
}