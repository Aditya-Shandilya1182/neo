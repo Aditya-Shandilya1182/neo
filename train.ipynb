{
  "nbformat": 4,
  "nbformat_minor": 0,
  "metadata": {
    "colab": {
      "provenance": [],
      "authorship_tag": "ABX9TyPEu6uWq+Feoqcg/qwIIxpf",
      "include_colab_link": true
    },
    "kernelspec": {
      "name": "python3",
      "display_name": "Python 3"
    },
    "language_info": {
      "name": "python"
    }
  },
  "cells": [
    {
      "cell_type": "markdown",
      "metadata": {
        "id": "view-in-github",
        "colab_type": "text"
      },
      "source": [
        "<a href=\"https://colab.research.google.com/github/Aditya-Shandilya1182/neo/blob/main/train.ipynb\" target=\"_parent\"><img src=\"https://colab.research.google.com/assets/colab-badge.svg\" alt=\"Open In Colab\"/></a>"
      ]
    },
    {
      "cell_type": "code",
      "execution_count": 1,
      "metadata": {
        "id": "E7AxBPoZ49aN"
      },
      "outputs": [],
      "source": [
        "import torch\n",
        "import torch.nn as nn\n",
        "from torch.nn import functional as F"
      ]
    },
    {
      "cell_type": "code",
      "source": [
        "#embd -> DIM\n",
        "#hidden_dim -> FFN_DIM\n",
        "#n_head -> N_HEADS\n",
        "#head_dim -> HEAD_DIM"
      ],
      "metadata": {
        "id": "90-poBJlCWTc"
      },
      "execution_count": 3,
      "outputs": []
    },
    {
      "cell_type": "code",
      "source": [
        "class MLP(nn.Module):\n",
        "  def __init__(self, config):\n",
        "    super().__init__()\n",
        "    self.w1 = nn.Linear(config.embd, config.hidden_dim, bias=False)\n",
        "    self.w2 = nn.Linear(config.hidden_dim, config.embd, bias=False)\n",
        "    self.w3 = nn.Linear(config.embd, config.hidden_dim, bias=False)\n",
        "\n",
        "  def forward(self, x):\n",
        "    x_w1 = self.w1(x)\n",
        "    x_w3 = self.w3(x)\n",
        "    x = F.silu(x_w1) * x_w3\n",
        "    x = self.w2(x)\n",
        "    return x"
      ],
      "metadata": {
        "id": "P9UZXnH15zGx"
      },
      "execution_count": 2,
      "outputs": []
    },
    {
      "cell_type": "code",
      "source": [
        "class Attention(nn.Module):\n",
        "  def __init__(self, config):\n",
        "    super().__init__()\n",
        "\n",
        "    self.wq = nn.Linear(config.embd, config.n_heads * config.head_dim, bias=False)\n",
        "    self.wk = nn.Linear(config.embd, config.n_kv_head * config.head_dim, bias=False)\n",
        "    self.wv = nn.Linear(config.embd, config.n_kv_head * config.head_dim, bias=False)\n",
        "    self.wo = nn.Linear(config.n_heads * config.head_dim, config.embd, bias=False)\n",
        "\n",
        "    self.cache_k = torch.zeros(\n",
        "        (\n",
        "            config.batch_size,\n",
        "            config.seq_len,\n",
        "            config.n_kv_head,\n",
        "            config.head_dim\n",
        "        )\n",
        "    )\n",
        "\n",
        "    self.cache_v = torch.zeros(\n",
        "        (\n",
        "            config.batch_size,\n",
        "            config.seq_len,\n",
        "            config.n_kv_head,\n",
        "            config.head_dim\n",
        "        )\n",
        "    )\n",
        "\n",
        "    self.n_heads = config.n_heads\n",
        "    self.head_dim = config.head_dim\n",
        "    self.n_kv_head = config.n_kv_head\n",
        "\n",
        "  def forward(self, x, start_pos, freqs_cis, mask):\n",
        "    batch_sz, seqlen, _ = x.shape\n",
        "\n",
        "    queries = self.wq(x)\n",
        "    keys = self.wk(x)\n",
        "    values = self.wv(x)\n",
        "\n",
        "    queries = queries.view(batch_sz, seqlen, self.n_heads, self.head_dim)\n",
        "    keys = keys.view(batch_sz, seqlen, self.n_kv_head, self.head_dim)\n",
        "    values = values.view(batch_sz, seqlen, self.n_kv_head, self.head_dim)\n",
        "\n",
        ""
      ],
      "metadata": {
        "id": "ImlpMLst9yN1"
      },
      "execution_count": null,
      "outputs": []
    }
  ]
}