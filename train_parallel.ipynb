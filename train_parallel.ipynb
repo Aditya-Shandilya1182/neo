{
  "metadata": {
    "kernelspec": {
      "language": "python",
      "display_name": "Python 3",
      "name": "python3"
    },
    "language_info": {
      "name": "python",
      "version": "3.11.11",
      "mimetype": "text/x-python",
      "codemirror_mode": {
        "name": "ipython",
        "version": 3
      },
      "pygments_lexer": "ipython3",
      "nbconvert_exporter": "python",
      "file_extension": ".py"
    },
    "kaggle": {
      "accelerator": "nvidiaTeslaT4",
      "dataSources": [
        {
          "sourceId": 12022827,
          "sourceType": "datasetVersion",
          "datasetId": 7564133
        }
      ],
      "dockerImageVersionId": 31041,
      "isInternetEnabled": true,
      "language": "python",
      "sourceType": "notebook",
      "isGpuEnabled": true
    },
    "colab": {
      "name": "train_parallel.ipynb",
      "provenance": [],
      "include_colab_link": true
    }
  },
  "nbformat_minor": 0,
  "nbformat": 4,
  "cells": [
    {
      "cell_type": "markdown",
      "metadata": {
        "id": "view-in-github",
        "colab_type": "text"
      },
      "source": [
        "<a href=\"https://colab.research.google.com/github/Aditya-Shandilya1182/neo/blob/main/train_parallel.ipynb\" target=\"_parent\"><img src=\"https://colab.research.google.com/assets/colab-badge.svg\" alt=\"Open In Colab\"/></a>"
      ]
    },
    {
      "cell_type": "code",
      "source": [
        "import torch\n",
        "import tiktoken\n",
        "from tiktoken import get_encoding\n",
        "import torch.nn as nn\n",
        "from torch.nn import functional as F\n",
        "from torch.optim import AdamW\n",
        "from torch.utils.data import DataLoader, Dataset\n",
        "from dataclasses import dataclass\n",
        "from datasets import load_dataset\n",
        "from tqdm import tqdm\n",
        "import pickle\n",
        "import numpy as np\n",
        "from torch.amp import GradScaler, autocast"
      ],
      "metadata": {
        "_uuid": "8f2839f25d086af736a60e9eeb907d3b93b6e0e5",
        "_cell_guid": "b1076dfc-b9ad-4769-8c92-a6c4dae69d19",
        "trusted": true,
        "execution": {
          "iopub.status.busy": "2025-06-02T02:12:22.077251Z",
          "iopub.execute_input": "2025-06-02T02:12:22.078102Z",
          "iopub.status.idle": "2025-06-02T02:12:27.638817Z",
          "shell.execute_reply.started": "2025-06-02T02:12:22.07808Z",
          "shell.execute_reply": "2025-06-02T02:12:27.638032Z"
        },
        "id": "vHQgiV9bu3zc"
      },
      "outputs": [],
      "execution_count": null
    },
    {
      "cell_type": "code",
      "source": [
        "device = 'cuda'"
      ],
      "metadata": {
        "trusted": true,
        "execution": {
          "iopub.status.busy": "2025-06-02T02:12:28.226772Z",
          "iopub.execute_input": "2025-06-02T02:12:28.227294Z",
          "iopub.status.idle": "2025-06-02T02:12:28.23053Z",
          "shell.execute_reply.started": "2025-06-02T02:12:28.227267Z",
          "shell.execute_reply": "2025-06-02T02:12:28.229842Z"
        },
        "id": "_52qEKpRu3zd"
      },
      "outputs": [],
      "execution_count": null
    },
    {
      "cell_type": "code",
      "source": [
        "class MLP(nn.Module):\n",
        "  def __init__(self, config):\n",
        "    super().__init__()\n",
        "    self.w1 = nn.Linear(config.n_embd, 4 * config.n_embd, bias=False, dtype=config.d_type)\n",
        "    self.w2 = nn.Linear(4 * config.n_embd, config.n_embd, bias=False, dtype=config.d_type)\n",
        "    self.dropout = nn.Dropout(config.dropout)\n",
        "\n",
        "  def forward(self, x):\n",
        "    x_w1 = self.w1(x)\n",
        "    x = F.silu(x_w1)\n",
        "    x = self.w2(x)\n",
        "    x = self.dropout(x)\n",
        "    return x"
      ],
      "metadata": {
        "trusted": true,
        "execution": {
          "iopub.status.busy": "2025-06-02T02:12:29.040234Z",
          "iopub.execute_input": "2025-06-02T02:12:29.040495Z",
          "iopub.status.idle": "2025-06-02T02:12:29.04528Z",
          "shell.execute_reply.started": "2025-06-02T02:12:29.040473Z",
          "shell.execute_reply": "2025-06-02T02:12:29.044551Z"
        },
        "id": "fo83vknFu3zd"
      },
      "outputs": [],
      "execution_count": null
    },
    {
      "cell_type": "code",
      "source": [
        "class Attention(nn.Module):\n",
        "    def __init__(self, config):\n",
        "        super().__init__()\n",
        "        assert config.n_embd % config.n_head == 0, \"Embedding size must be divisible by the number of heads\"\n",
        "        self.c_attn = nn.Linear(config.n_embd, 3 * config.n_embd, bias=False, dtype=config.d_type)\n",
        "        self.c_proj = nn.Linear(config.n_embd, config.n_embd, bias=False, dtype=config.d_type)\n",
        "        self.n_head = config.n_head\n",
        "        self.n_embd = config.n_embd\n",
        "        self.register_buffer(\n",
        "            \"tril\",\n",
        "            torch.tril(torch.ones(config.block_size, config.block_size, dtype=torch.bool))\n",
        "        )\n",
        "        self.att_dropout = nn.Dropout(config.dropout)\n",
        "        self.dropout = config.dropout\n",
        "\n",
        "    def forward(self, x):\n",
        "        B,T,C = x.size()\n",
        "        q, k, v  = self.c_attn(x).split(self.n_embd, dim=2)\n",
        "        k = k.view(B, T, self.n_head, C // self.n_head).transpose(1, 2)\n",
        "        q = q.view(B, T, self.n_head, C // self.n_head).transpose(1, 2)\n",
        "        v = v.view(B, T, self.n_head, C // self.n_head).transpose(1, 2)\n",
        "        y = F.scaled_dot_product_attention(q, k, v, attn_mask=None, dropout_p=self.dropout, is_causal=True)\n",
        "        y = y.transpose(1, 2).contiguous().view(B, T, C)\n",
        "        y = self.c_proj(y)\n",
        "        y = self.att_dropout(y)\n",
        "        return y"
      ],
      "metadata": {
        "trusted": true,
        "execution": {
          "iopub.status.busy": "2025-06-02T02:12:32.302729Z",
          "iopub.execute_input": "2025-06-02T02:12:32.302997Z",
          "iopub.status.idle": "2025-06-02T02:12:32.310076Z",
          "shell.execute_reply.started": "2025-06-02T02:12:32.302976Z",
          "shell.execute_reply": "2025-06-02T02:12:32.309255Z"
        },
        "id": "FxhdBdrwu3ze"
      },
      "outputs": [],
      "execution_count": null
    },
    {
      "cell_type": "code",
      "source": [
        "class Block(nn.Module):\n",
        "  def __init__(self, config):\n",
        "    super().__init__()\n",
        "    self.attention = Attention(config)\n",
        "    self.feed_forward = MLP(config)\n",
        "    self.attention_norm = nn.RMSNorm(config.n_embd, dtype=config.d_type)\n",
        "    self.ffn_norm = nn.RMSNorm(config.n_embd, dtype=config.d_type)\n",
        "\n",
        "  def forward(self, x):\n",
        "    x = x + self.attention(self.attention_norm(x))\n",
        "    x = x + self.feed_forward(self.ffn_norm(x))\n",
        "    return x"
      ],
      "metadata": {
        "trusted": true,
        "execution": {
          "iopub.status.busy": "2025-06-02T02:12:32.694097Z",
          "iopub.execute_input": "2025-06-02T02:12:32.694368Z",
          "iopub.status.idle": "2025-06-02T02:12:32.699359Z",
          "shell.execute_reply.started": "2025-06-02T02:12:32.694346Z",
          "shell.execute_reply": "2025-06-02T02:12:32.69853Z"
        },
        "id": "CZ43_WNru3ze"
      },
      "outputs": [],
      "execution_count": null
    },
    {
      "cell_type": "code",
      "source": [
        "class Neo(nn.Module):\n",
        "    def __init__(self, config):\n",
        "        super().__init__()\n",
        "        self.config = config\n",
        "        self.token_embedding = nn.Embedding(config.vocab_size, config.n_embd, dtype=config.d_type)\n",
        "        self.position_embedding = nn.Embedding(config.block_size, config.n_embd, dtype=config.d_type)\n",
        "        self.blocks = nn.Sequential(*[Block(config) for _ in range(config.n_layer)])\n",
        "        self.ln_f = nn.RMSNorm(config.n_embd, dtype=config.d_type)\n",
        "        self.lm_head = nn.Linear(config.n_embd, config.vocab_size, dtype=config.d_type)\n",
        "        self.apply(self._init_weights)\n",
        "\n",
        "    def _init_weights(self, module):\n",
        "        if isinstance(module, nn.Linear):\n",
        "            torch.nn.init.normal_(module.weight, mean=0.0, std=0.02)\n",
        "            if module.bias is not None:\n",
        "                torch.nn.init.zeros_(module.bias)\n",
        "        elif isinstance(module, nn.Embedding):\n",
        "            torch.nn.init.normal_(module.weight, mean=0.0, std=0.02)\n",
        "\n",
        "    def forward(self, index, targets=None):\n",
        "        B, T = index.shape\n",
        "\n",
        "        tok_emb = self.token_embedding(index)\n",
        "        pos_emb = self.position_embedding(torch.arange(T, device=self.config.device))\n",
        "        x = tok_emb + pos_emb\n",
        "        x = self.blocks(x)\n",
        "        x = self.ln_f(x)\n",
        "        logits = self.lm_head(x)\n",
        "\n",
        "        if targets is None:\n",
        "            loss = None\n",
        "        else:\n",
        "            B, T, C = logits.shape\n",
        "            logits = logits.view(B*T, C)\n",
        "            targets = targets.view(B*T)\n",
        "            loss = F.cross_entropy(logits, targets)\n",
        "\n",
        "        return logits, loss\n",
        "    def generate(self, index, max_new_tokens):\n",
        "        for _ in range(max_new_tokens):\n",
        "            b_s = self.config.block_size\n",
        "            index_cond = index[:, -b_s:]\n",
        "            logits, loss = self.forward(index_cond)\n",
        "            logits = logits[:, -1, :]\n",
        "            probs = F.softmax(logits, dim=-1)\n",
        "            index_next = torch.multinomial(probs, num_samples=1)\n",
        "            index = torch.cat((index, index_next), dim=1)\n",
        "        return index"
      ],
      "metadata": {
        "trusted": true,
        "execution": {
          "iopub.status.busy": "2025-06-02T02:12:34.768334Z",
          "iopub.execute_input": "2025-06-02T02:12:34.768841Z",
          "iopub.status.idle": "2025-06-02T02:12:34.777632Z",
          "shell.execute_reply.started": "2025-06-02T02:12:34.768816Z",
          "shell.execute_reply": "2025-06-02T02:12:34.776863Z"
        },
        "id": "V5SWu5B_u3zf"
      },
      "outputs": [],
      "execution_count": null
    },
    {
      "cell_type": "code",
      "source": [
        "@dataclass\n",
        "class ModelConfig:\n",
        "    batch_size: int = 8\n",
        "    block_size: int = 512\n",
        "    max_iters: int = 4000\n",
        "    learning_rate: float = 1e-4\n",
        "    eval_iters: int = 500\n",
        "    n_embd: int = 512\n",
        "    n_head: int = 8\n",
        "    n_layer: int = 12\n",
        "    head_size: int = 512\n",
        "    d_type: torch.dtype = torch.float32\n",
        "    vocab_size: int = 50257\n",
        "    dropout: float = 0.1\n",
        "    device: str = 'cuda' if torch.cuda.is_available() else 'cpu'"
      ],
      "metadata": {
        "trusted": true,
        "execution": {
          "iopub.status.busy": "2025-06-02T02:12:37.338051Z",
          "iopub.execute_input": "2025-06-02T02:12:37.338275Z",
          "iopub.status.idle": "2025-06-02T02:12:37.41825Z",
          "shell.execute_reply.started": "2025-06-02T02:12:37.33826Z",
          "shell.execute_reply": "2025-06-02T02:12:37.417448Z"
        },
        "id": "RmgDZaEYu3zg"
      },
      "outputs": [],
      "execution_count": null
    },
    {
      "cell_type": "code",
      "source": [
        "dataset = load_dataset(\"roneneldan/TinyStories\")\n",
        "tokenizer = tiktoken.get_encoding(\"gpt2\")\n",
        "encoded_train_chunks = []\n",
        "for sample in dataset['train']:\n",
        "    encoded_train_chunks.append(tokenizer.encode(sample['text']))\n",
        "train_encoded = torch.tensor([token for chunk in encoded_train_chunks for token in chunk], dtype=torch.long)\n",
        "encoded_val_chunks = []\n",
        "for sample in dataset['validation']:\n",
        "    encoded_val_chunks.append(tokenizer.encode(sample['text']))\n",
        "val_encoded = torch.tensor([token for chunk in encoded_val_chunks for token in chunk], dtype=torch.long)\n",
        "print(len(train_encoded))\n",
        "print(len(val_encoded))"
      ],
      "metadata": {
        "trusted": true,
        "execution": {
          "iopub.status.busy": "2025-06-02T02:12:37.868757Z",
          "iopub.execute_input": "2025-06-02T02:12:37.86947Z",
          "iopub.status.idle": "2025-06-02T02:12:38.715183Z",
          "shell.execute_reply.started": "2025-06-02T02:12:37.869449Z",
          "shell.execute_reply": "2025-06-02T02:12:38.714654Z"
        },
        "id": "TX9ZjU7qu3zh"
      },
      "outputs": [],
      "execution_count": null
    },
    {
      "cell_type": "code",
      "source": [
        "train_encoded.to(device)\n",
        "val_encoded.to(device)"
      ],
      "metadata": {
        "trusted": true,
        "execution": {
          "iopub.status.busy": "2025-06-01T14:16:33.62835Z",
          "iopub.execute_input": "2025-06-01T14:16:33.628579Z",
          "iopub.status.idle": "2025-06-01T14:16:58.629113Z",
          "shell.execute_reply.started": "2025-06-01T14:16:33.628563Z",
          "shell.execute_reply": "2025-06-01T14:16:58.628453Z"
        },
        "id": "vrRbOvICu3zh"
      },
      "outputs": [],
      "execution_count": null
    },
    {
      "cell_type": "code",
      "source": [
        "config = ModelConfig()"
      ],
      "metadata": {
        "trusted": true,
        "execution": {
          "iopub.status.busy": "2025-06-01T14:16:58.629876Z",
          "iopub.execute_input": "2025-06-01T14:16:58.630127Z",
          "iopub.status.idle": "2025-06-01T14:16:58.633351Z",
          "shell.execute_reply.started": "2025-06-01T14:16:58.630101Z",
          "shell.execute_reply": "2025-06-01T14:16:58.632719Z"
        },
        "id": "h9WNOQhmu3zi"
      },
      "outputs": [],
      "execution_count": null
    },
    {
      "cell_type": "code",
      "source": [
        "@torch.no_grad()\n",
        "def estimate_loss():\n",
        "    out = {}\n",
        "    model.eval()\n",
        "    for split in ['train', 'val']:\n",
        "        data = train_encoded if split == 'train' else val_encoded\n",
        "\n",
        "        if data.size(0) <= block_size:\n",
        "            raise ValueError(f\"{split.capitalize()} dataset size is too small for the requested block size.\")\n",
        "\n",
        "        losses = torch.zeros(eval_iters)\n",
        "\n",
        "        for k in range(eval_iters):\n",
        "            ix = torch.randint(0, data.size(0) - block_size, (batch_size,))\n",
        "            x = torch.stack([data[i:i+block_size] for i in ix])\n",
        "            y = torch.stack([data[i+1:i+block_size+1] for i in ix])\n",
        "\n",
        "            x, y = x.to(device), y.to(device)\n",
        "            logits, loss = model(x, y)\n",
        "            losses[k] = loss.mean().item()\n",
        "\n",
        "        out[split] = losses.mean().item()\n",
        "\n",
        "    model.train()\n",
        "    return out"
      ],
      "metadata": {
        "trusted": true,
        "execution": {
          "iopub.status.busy": "2025-06-01T14:16:58.653511Z",
          "iopub.execute_input": "2025-06-01T14:16:58.653761Z",
          "iopub.status.idle": "2025-06-01T14:16:58.669386Z",
          "shell.execute_reply.started": "2025-06-01T14:16:58.653741Z",
          "shell.execute_reply": "2025-06-01T14:16:58.668712Z"
        },
        "id": "WETHywK3u3zi"
      },
      "outputs": [],
      "execution_count": null
    },
    {
      "cell_type": "code",
      "source": [
        "train_len = len(train_encoded)\n",
        "val_len = len(val_encoded)"
      ],
      "metadata": {
        "trusted": true,
        "execution": {
          "iopub.status.busy": "2025-06-01T14:16:58.670296Z",
          "iopub.execute_input": "2025-06-01T14:16:58.670541Z",
          "iopub.status.idle": "2025-06-01T14:16:58.689144Z",
          "shell.execute_reply.started": "2025-06-01T14:16:58.670523Z",
          "shell.execute_reply": "2025-06-01T14:16:58.68844Z"
        },
        "id": "jzAeh8Puu3zi"
      },
      "outputs": [],
      "execution_count": null
    },
    {
      "cell_type": "code",
      "source": [
        "max_iters = config.max_iters\n",
        "gradient_accumulation_steps = 8\n",
        "eval_iters = config.eval_iters\n",
        "block_size = config.block_size\n",
        "batch_size = config.batch_size\n",
        "max_grad_norm = 1.0\n",
        "\n",
        "model = Neo(config)\n",
        "model = nn.DataParallel(model, device_ids=[0, 1])\n",
        "model = model.to(device)\n",
        "model = torch.compile(model)\n",
        "\n",
        "\n",
        "print(f\"Using devices: {[torch.cuda.get_device_name(i) for i in range(torch.cuda.device_count())]}\")\n",
        "print(next(model.parameters()).device)\n",
        "\n",
        "optimizer = torch.optim.AdamW(model.parameters(), lr=config.learning_rate)\n",
        "scaler = GradScaler()\n",
        "\n",
        "train_losses = []\n",
        "val_losses = []\n",
        "\n",
        "for iter in range(max_iters):\n",
        "    print(iter)\n",
        "\n",
        "    if iter % eval_iters == 0:\n",
        "        losses = estimate_loss()\n",
        "        print(f\"step: {iter}, train loss: {losses['train']:.3f}, val loss: {losses['val']:.3f}\")\n",
        "\n",
        "    ix = torch.randint(train_len - block_size, (batch_size,))\n",
        "    x = torch.stack([train_encoded[i:i+block_size] for i in ix])\n",
        "    y = torch.stack([train_encoded[i+1:i+block_size+1] for i in ix])\n",
        "    x, y = x.to(device), y.to(device)\n",
        "\n",
        "    with autocast(device_type='cuda', dtype=torch.float16):\n",
        "        logits, loss = model(x, y)\n",
        "        loss = loss / gradient_accumulation_steps\n",
        "\n",
        "    loss_mean = loss.mean()\n",
        "    scaler.scale(loss_mean).backward()\n",
        "\n",
        "    if (iter + 1) % gradient_accumulation_steps == 0:\n",
        "        scaler.unscale_(optimizer)\n",
        "        torch.nn.utils.clip_grad_norm_(model.parameters(), max_grad_norm)\n",
        "\n",
        "        scaler.step(optimizer)\n",
        "        scaler.update()\n",
        "        optimizer.zero_grad(set_to_none=True)\n",
        "\n",
        "        print(f\"Loss at step {iter + 1}: {loss_mean.item() * gradient_accumulation_steps:.3f}\")\n",
        "        train_losses.append(loss_mean.item() * gradient_accumulation_steps)\n"
      ],
      "metadata": {
        "trusted": true,
        "execution": {
          "iopub.status.busy": "2025-06-01T14:19:06.300195Z",
          "iopub.execute_input": "2025-06-01T14:19:06.300727Z",
          "iopub.status.idle": "2025-06-01T14:22:01.29141Z",
          "shell.execute_reply.started": "2025-06-01T14:19:06.300704Z",
          "shell.execute_reply": "2025-06-01T14:22:01.290422Z"
        },
        "id": "zs97c9iMu3zi"
      },
      "outputs": [],
      "execution_count": null
    },
    {
      "cell_type": "code",
      "source": [
        "with open('model-dp-mp.pkl', 'wb') as f:\n",
        "    pickle.dump(model, f)\n",
        "print('model saved')"
      ],
      "metadata": {
        "trusted": true,
        "execution": {
          "iopub.status.busy": "2025-06-01T14:17:05.744179Z",
          "iopub.status.idle": "2025-06-01T14:17:05.744532Z",
          "shell.execute_reply.started": "2025-06-01T14:17:05.744347Z",
          "shell.execute_reply": "2025-06-01T14:17:05.744365Z"
        },
        "id": "rDP-sVMfu3zj"
      },
      "outputs": [],
      "execution_count": null
    },
    {
      "cell_type": "code",
      "source": [
        "with open(\"/kaggle/input/tiny_test_dp_mp/pytorch/default/1/model-dp-mp.pkl\", \"rb\") as f:\n",
        "    model = pickle.load(f)\n",
        "\n",
        "model = model.to(device)\n",
        "model.eval()\n",
        "\n",
        "prompt = 'Hello! Can you see me?'\n",
        "context = torch.tensor(tokenizer.encode(prompt), dtype=torch.long, device=device).unsqueeze(0)  # (1, T)\n",
        "\n",
        "if hasattr(model, 'module'):\n",
        "    model_to_use = model.module\n",
        "else:\n",
        "    model_to_use = model\n",
        "\n",
        "generated = model_to_use.generate(context, max_new_tokens=100)\n",
        "\n",
        "generated_chars = tokenizer.decode(generated[0].tolist())\n",
        "print(generated_chars)\n"
      ],
      "metadata": {
        "trusted": true,
        "execution": {
          "iopub.status.busy": "2025-06-02T02:15:53.476759Z",
          "iopub.execute_input": "2025-06-02T02:15:53.477033Z",
          "iopub.status.idle": "2025-06-02T02:15:55.697956Z",
          "shell.execute_reply.started": "2025-06-02T02:15:53.477015Z",
          "shell.execute_reply": "2025-06-02T02:15:55.697257Z"
        },
        "id": "hl7dpdxOu3zj",
        "outputId": "df170abe-e9ee-485e-a4f8-ce3a318656b0"
      },
      "outputs": [
        {
          "name": "stdout",
          "text": "Hello! Can you see me?Tim and I'm sorry. supply you did not changing a key to takeack. He wants angrily. She does not like the one. He hopes the slide some more careful.\"\n\nThe net was the place, and low, feeling a picture of the blue and Tom and a big suspicion together. He realized that he is alone.\n\nThe unavoid, the bear was thoughtful and started to his favorite was so to believe she was not tricked her tasty. She was so junk and great game\n",
          "output_type": "stream"
        }
      ],
      "execution_count": null
    }
  ]
}